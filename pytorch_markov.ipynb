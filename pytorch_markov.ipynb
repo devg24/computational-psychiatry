{
 "cells": [
  {
   "cell_type": "code",
   "execution_count": 19,
   "metadata": {},
   "outputs": [
    {
     "name": "stdout",
     "output_type": "stream",
     "text": [
      "Final Alpha: tensor([[6., 6., 6.],\n",
      "        [6., 6., 6.],\n",
      "        [6., 6., 6.]])\n",
      "Final Beta: tensor([[4.0000, 4.0000, 4.0000],\n",
      "        [4.0000, 4.0000, 4.0000],\n",
      "        [4.0000, 4.0000, 4.0000]])\n"
     ]
    }
   ],
   "source": [
    "import torch\n",
    "from torch.distributions.beta import Beta\n",
    "import torch.optim as optim\n",
    "\n",
    "def loss_fn(generated_sequence):\n",
    "    return torch.tensor(0.0, requires_grad=True)  # Placeholder for the actual loss function\n",
    "\n",
    "def run_markov_sequence(transition_matrix, initial_state, length):\n",
    "    sequence = [initial_state]\n",
    "    for _ in range(length):\n",
    "        next_state = torch.multinomial(transition_matrix[sequence[-1]], 1)[0]\n",
    "        sequence.append(next_state)\n",
    "    return sequence\n",
    "\n",
    "# Parameters\n",
    "learning_rate = 0.01\n",
    "epochs = 1000\n",
    "initial_state = torch.tensor(0)\n",
    "\n",
    "# Initialize learnable parameters for the alpha and beta parameters of the beta distribution\n",
    "phi = torch.tensor([[0.6, 0.6, 0.6],\n",
    "                    [0.6, 0.6, 0.6],\n",
    "                    [0.6, 0.6, 0.6]], requires_grad=True)  # Initial alpha parameter\n",
    "lmda = torch.tensor([[10.0, 10.0, 10.0],\n",
    "                     [10.0, 10.0, 10.0],\n",
    "                     [10.0, 10.0, 10.0]], requires_grad=True)  # Initial beta parameter\n",
    "optimizer = optim.Adam([phi, lmda], lr=learning_rate)\n",
    "\n",
    "for epoch in range(epochs):\n",
    "    optimizer.zero_grad()\n",
    "    total = torch.zeros_like(phi)\n",
    "    for i in range(20):\n",
    "        # Sample from the beta distribution\n",
    "        beta_dist = Beta(lmda * phi, lmda * (1 - phi))\n",
    "        sample = beta_dist.sample()\n",
    "        total += sample  # Sum the samples\n",
    "    \n",
    "    mean_sample = total / 20  # Calculate the mean of the samples\n",
    "    # print(f'Mean sample: {mean_sample}')\n",
    "\n",
    "    # normalize the mean sample\n",
    "    transition_matrix = mean_sample/mean_sample.sum(1, keepdim=True)\n",
    "    # print(f'Transition matrix {transition_matrix}')\n",
    "    \n",
    "\n",
    "\n",
    "    # Loss: Mean squared error between current mean and target mean\n",
    "    generated_sequence = run_markov_sequence(transition_matrix, initial_state, 52)\n",
    "    # print(f'Generated sequence: {generated_sequence}')\n",
    "    loss = loss_fn(generated_sequence)\n",
    "    \n",
    "    # Backpropagation\n",
    "    loss.backward()\n",
    "    optimizer.step()\n",
    "\n",
    "# After training\n",
    "print(f'Final Alpha: {lmda.detach() * phi.detach()}')\n",
    "print(f'Final Beta: {lmda.detach() * (1 - phi.detach())}')\n",
    "\n"
   ]
  },
  {
   "cell_type": "code",
   "execution_count": null,
   "metadata": {},
   "outputs": [],
   "source": []
  }
 ],
 "metadata": {
  "kernelspec": {
   "display_name": "base",
   "language": "python",
   "name": "python3"
  },
  "language_info": {
   "codemirror_mode": {
    "name": "ipython",
    "version": 3
   },
   "file_extension": ".py",
   "mimetype": "text/x-python",
   "name": "python",
   "nbconvert_exporter": "python",
   "pygments_lexer": "ipython3",
   "version": "3.11.3"
  }
 },
 "nbformat": 4,
 "nbformat_minor": 2
}
