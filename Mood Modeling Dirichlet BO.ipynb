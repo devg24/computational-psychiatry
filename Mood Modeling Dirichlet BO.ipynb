{
 "cells": [
  {
   "cell_type": "code",
   "execution_count": 1,
   "id": "24a1c44e-c418-4078-8efe-3fe65c79a9a0",
   "metadata": {},
   "outputs": [
    {
     "name": "stdout",
     "output_type": "stream",
     "text": [
      "State sequence: [1, 1, 1, 1, 2, 2, 2, 0, 0, 0]\n"
     ]
    }
   ],
   "source": [
    "import numpy as np\n",
    "\n",
    "def sample_transition_matrix(concentration_params):\n",
    "    \"\"\"\n",
    "    Samples a transition matrix from Dirichlet distributions based on concentration parameters.\n",
    "    \n",
    "    Parameters:\n",
    "    - concentration_params: A list of lists, where each sublist contains the concentration parameters (alpha)\n",
    "      for the Dirichlet distribution of each state's transition probabilities.\n",
    "    \n",
    "    Returns:\n",
    "    A sampled transition matrix.\n",
    "    \"\"\"\n",
    "    transition_matrix = np.array([np.random.dirichlet(alpha) for alpha in concentration_params])\n",
    "    return transition_matrix\n",
    "\n",
    "def markov_chain_simulation(initial_state, steps, concentration_params):\n",
    "    \"\"\"\n",
    "    Simulates a Markov chain using a single transition matrix sampled from Dirichlet distributions.\n",
    "    \n",
    "    Parameters:\n",
    "    - initial_state: The starting state of the Markov chain.\n",
    "    - steps: The number of steps to simulate.\n",
    "    - concentration_params: Concentration parameters for Dirichlet distributions of each state's transitions.\n",
    "    \n",
    "    Returns:\n",
    "    A list representing the sequence of states.\n",
    "    \"\"\"\n",
    "    # Sample one transition matrix for the entire simulation\n",
    "    transition_matrix = sample_transition_matrix(concentration_params)\n",
    "    \n",
    "    current_state = initial_state\n",
    "    state_sequence = [current_state]\n",
    "    \n",
    "    for _ in range(steps - 1):\n",
    "        current_state = np.random.choice(range(len(transition_matrix)), p=transition_matrix[current_state])\n",
    "        state_sequence.append(current_state)\n",
    "    \n",
    "    return state_sequence\n",
    "\n",
    "# Example parameters\n",
    "initial_state = 1\n",
    "steps = 10\n",
    "concentration_params = [\n",
    "    [5, 2, 3],  # Stronger belief in staying in or transitioning from state 0 to states 0, 1, 2\n",
    "    [2, 5, 3],  # State 1 has a higher probability of staying in 1 or moving to 2\n",
    "    [3, 3, 4]   # State 2 has a slightly higher probability of moving to state 2\n",
    "]\n",
    "\n",
    "# Run the simulation\n",
    "sequence = markov_chain_simulation(initial_state, steps, concentration_params)\n",
    "print(f\"State sequence: {sequence}\")\n"
   ]
  },
  {
   "cell_type": "code",
   "execution_count": 2,
   "id": "36776ea3-4fb7-4d86-8576-c17a7e8c1da2",
   "metadata": {},
   "outputs": [
    {
     "name": "stdout",
     "output_type": "stream",
     "text": [
      "Sequence: [0, 1, 1, 1, 2, 0, 1, 0, 1, 1, 2, 1]\n",
      "Category: 2\n"
     ]
    }
   ],
   "source": [
    "def categorize_sequence(sequence):\n",
    "    \"\"\"\n",
    "    Categorizes a sequence into one of three categories based on specific criteria.\n",
    "    \n",
    "    Parameters:\n",
    "    - sequence: A list of integers representing the state sequence from a Markov chain.\n",
    "    \n",
    "    Returns:\n",
    "    - An integer (2, 0, 1) representing the category of the sequence.\n",
    "    \"\"\"\n",
    "    # Convert the sequence list to a string for easier subsequence search\n",
    "    sequence_str = ''.join(map(str, sequence))\n",
    "    \n",
    "    # Check for the presence of subsequences\n",
    "    if '2' in sequence_str:\n",
    "        return 2 # Bipolar\n",
    "    elif '00' in sequence_str:\n",
    "        return 0 # MDD\n",
    "    else:\n",
    "        return 1 # Euthymic\n",
    "\n",
    "# Example usage\n",
    "sequence = [0, 1, 1, 1, 2, 0, 1, 0, 1, 1, 2, 1] \n",
    "category = categorize_sequence(sequence)\n",
    "print(f\"Sequence: {sequence}\\nCategory: {category}\")"
   ]
  },
  {
   "cell_type": "code",
   "execution_count": 3,
   "id": "8d323d24-df53-467c-9133-cbb89d6598d0",
   "metadata": {},
   "outputs": [
    {
     "name": "stdout",
     "output_type": "stream",
     "text": [
      "Category Percentages: [ 0. 20. 80.]\n"
     ]
    }
   ],
   "source": [
    "def calculate_category_percentages_np(sequences):\n",
    "    \"\"\"\n",
    "    Calculates the percentages of categories (0, 1, 2) in a collection of Markov chain sequences using a NumPy array.\n",
    "    \n",
    "    Parameters:\n",
    "    - sequences: A list of lists, where each sublist is a sequence from a Markov chain.\n",
    "    \n",
    "    Returns:\n",
    "    A NumPy array where indices 0, 1, and 2 correspond to the percentages of categories 0, 1, and 2, respectively.\n",
    "    \"\"\"\n",
    "    # Initialize a NumPy array for category counts\n",
    "    category_counts = np.zeros(3)\n",
    "    \n",
    "    # Categorize each sequence and update counts\n",
    "    for sequence in sequences:\n",
    "        category = categorize_sequence(sequence)\n",
    "        category_counts[category] += 1\n",
    "    # Calculate percentages\n",
    "    category_percentages = (category_counts / len(sequences)) * 100\n",
    "    \n",
    "    return category_percentages\n",
    "\n",
    "# Example usage\n",
    "sequences = [\n",
    "    [1, 1, 1, 2, 1],  # Category 1\n",
    "    [0, 0, 0, 1, 2],  # Category 0\n",
    "    [1, 2, 2, 1, 2],  # Category 2\n",
    "    [0, 1, 1, 1, 0],  # Category 1\n",
    "    [0, 0, 2, 2, 2]   # Category 2\n",
    "]\n",
    "\n",
    "percentages = calculate_category_percentages_np(sequences)\n",
    "print(f\"Category Percentages: {percentages}\")\n"
   ]
  },
  {
   "cell_type": "code",
   "execution_count": 4,
   "id": "ee4e646a-c3c7-445f-856d-eceb75d991b4",
   "metadata": {},
   "outputs": [],
   "source": [
    "def generate_markov_sequence(transition_matrix, initial_state, sequence_length):\n",
    "    \"\"\"\n",
    "    Generates a Markov chain sequence given a transition matrix.\n",
    "    \n",
    "    Parameters:\n",
    "    - transition_matrix: A NumPy array representing the transition matrix for the Markov chain.\n",
    "    - initial_state: The starting state of the sequence.\n",
    "    - sequence_length: The length of the sequence to generate.\n",
    "    \n",
    "    Returns:\n",
    "    A list representing the generated Markov chain sequence.\n",
    "    \"\"\"\n",
    "    current_state = initial_state\n",
    "    sequence = [current_state]\n",
    "    \n",
    "    for _ in range(sequence_length - 1):\n",
    "        current_state = np.random.choice(a=len(transition_matrix), p=transition_matrix[current_state])\n",
    "        sequence.append(current_state)\n",
    "    \n",
    "    return sequence\n",
    "\n",
    "def kl_divergence(generated_percentages, target_percentages):\n",
    "    \"\"\"\n",
    "    Calculates the Kullback-Leibler Divergence between two distributions.\n",
    "    \n",
    "    Parameters:\n",
    "    - generated_percentages: The percentages of categories from generated sequences.\n",
    "    - target_percentages: The target percentages for each category.\n",
    "    \n",
    "    Returns:\n",
    "    - The KL Divergence.\n",
    "    \"\"\"\n",
    "    epsilon = 1e-8  # To ensure numerical stability by avoiding division by zero and log(0)\n",
    "    \n",
    "    # Ensure that both generated_percentages and target_percentages are of float type\n",
    "    generated_percentages = np.array(generated_percentages, dtype=np.float64)\n",
    "    target_percentages = np.array(target_percentages, dtype=np.float64)\n",
    "    \n",
    "    # Add epsilon to avoid log(0) and ensure non-zero division\n",
    "    generated_percentages += epsilon\n",
    "    target_percentages += epsilon\n",
    "    \n",
    "    # Normalize to ensure they sum to 1\n",
    "    generated_norm = generated_percentages / np.sum(generated_percentages)\n",
    "    target_norm = target_percentages / np.sum(target_percentages)\n",
    "    \n",
    "    return np.sum(target_norm * np.log(target_norm / generated_norm))\n",
    "\n",
    "\n",
    "def objective_function(concentration_params, n_sequences, sequence_length, target_percentages, initial_state=1, penalty=1e6):\n",
    "    \"\"\"\n",
    "    Objective function using KL Divergence, with a penalty for cases where a valid transition matrix cannot be sampled.\n",
    "\n",
    "    Parameters:\n",
    "    - concentration_params: Concentration parameters for the Dirichlet distributions.\n",
    "    - n_sequences: Number of sequences to generate.\n",
    "    - sequence_length: Length of each sequence.\n",
    "    - target_percentages: Target category percentages.\n",
    "    - initial_state: Initial state for sequence generation.\n",
    "    - penalty: Penalty value to apply when a valid matrix cannot be sampled.\n",
    "\n",
    "    Returns:\n",
    "    - The KL Divergence between generated and target percentages, or a penalty if a valid matrix cannot be sampled.\n",
    "    \"\"\"\n",
    "    sequences = []\n",
    "    valid_matrices = 0\n",
    "    \n",
    "    for _ in range(n_sequences):\n",
    "        try:\n",
    "            transition_matrix = sample_transition_matrix(concentration_params)\n",
    "            if transition_matrix is None:  # Implementing the check to avoid processing with invalid matrices\n",
    "                continue\n",
    "            sequence = generate_markov_sequence(transition_matrix, initial_state, sequence_length)\n",
    "            sequences.append(sequence)\n",
    "            valid_matrices += 1\n",
    "        except ValueError:\n",
    "            # Skip sequence generation if a valid transition matrix cannot be sampled\n",
    "            continue\n",
    "    \n",
    "    if valid_matrices == 0:\n",
    "        # Apply the penalty if no valid matrices could be sampled for all sequences\n",
    "        return penalty\n",
    "    \n",
    "    generated_percentages = calculate_category_percentages_np(sequences)\n",
    "    \n",
    "    # Ensure non-negative percentages for KL Divergence calculation\n",
    "    generated_percentages = np.clip(generated_percentages, a_min=0, a_max=None)\n",
    "    target_percentages = np.clip(target_percentages, a_min=0, a_max=None)\n",
    "    \n",
    "    return kl_divergence(generated_percentages, target_percentages)"
   ]
  },
  {
   "cell_type": "code",
   "execution_count": 5,
   "id": "e23e5df7-3580-4481-82ca-07dcd4fc9f04",
   "metadata": {},
   "outputs": [
    {
     "name": "stdout",
     "output_type": "stream",
     "text": [
      "Objective Function Value (MSE): 22.541591222983886\n"
     ]
    }
   ],
   "source": [
    "# Example usage\n",
    "concentration_params = [\n",
    "    [5, 2, 3],  # For state 0 transitions\n",
    "    [2, 5, 3],  # For state 1 transitions\n",
    "    [3, 3, 4]   # For state 2 transitions\n",
    "]\n",
    "\n",
    "#target_percentages = np.array([10, 87, 3]) # MDD, normal, Bipolar\n",
    "target_percentages = np.array([5., 94., 1.])\n",
    "#target_percentages = np.array([5, 1])\n",
    "\n",
    "n_sequences = 100\n",
    "sequence_length = 52\n",
    "# Compute the objective function value\n",
    "objective_value = objective_function(concentration_params, n_sequences, sequence_length, target_percentages)\n",
    "print(f\"Objective Function Value (MSE): {objective_value}\")\n"
   ]
  },
  {
   "cell_type": "code",
   "execution_count": 6,
   "id": "857fda1b-4d94-40e6-a4e5-337b00c9a61b",
   "metadata": {
    "scrolled": true,
    "tags": []
   },
   "outputs": [
    {
     "name": "stdout",
     "output_type": "stream",
     "text": [
      "Optimal concentration parameters: [1.99, 1.99, 0.6185093533368146, 0.001, 1.99, 0.001, 1.99, 0.43471463127315113, 1.99]\n",
      "Minimum MSE: 0.21596314090660873\n",
      "CPU times: user 5min 16s, sys: 3min 38s, total: 8min 55s\n",
      "Wall time: 49 s\n"
     ]
    }
   ],
   "source": [
    "%%time\n",
    "from skopt.space import Real\n",
    "from skopt import gp_minimize\n",
    "\n",
    "# Define the search space for 9 concentration parameters (3 for each state transition)\n",
    "lb = 1e-3\n",
    "ub = 1.99\n",
    "search_space = [\n",
    "    Real(lb, ub, name='alpha_0_0'), Real(lb, ub, name='alpha_0_1'), Real(lb, ub, name='alpha_0_2'),\n",
    "    Real(lb, ub, name='alpha_1_0'), Real(lb, ub, name='alpha_1_1'), Real(lb, ub, name='alpha_1_2'),\n",
    "    Real(lb, ub, name='alpha_2_0'), Real(lb, ub, name='alpha_2_1'), Real(lb, ub, name='alpha_2_2'),\n",
    "]\n",
    "#Real(1e-6, 10.0, name='alpha_0_0')\n",
    "\n",
    "from skopt.utils import use_named_args\n",
    "\n",
    "@use_named_args(search_space)\n",
    "def skopt_objective_function(**params):\n",
    "    # Unpack parameters into the structure expected by the objective function\n",
    "    concentration_params = [\n",
    "        [params['alpha_0_0'], params['alpha_0_1'], params['alpha_0_2']],\n",
    "        [params['alpha_1_0'], params['alpha_1_1'], params['alpha_1_2']],\n",
    "        [params['alpha_2_0'], params['alpha_2_1'], params['alpha_2_2']],\n",
    "    ]\n",
    "    # Call the objective function with the structured parameters\n",
    "    return objective_function(concentration_params, n_sequences=100, sequence_length=52, target_percentages=target_percentages)\n",
    "\n",
    "# Perform Bayesian Optimization\n",
    "result = gp_minimize(skopt_objective_function, search_space, n_calls=100, random_state=1, n_jobs=8, n_initial_points=20, verbose=False)\n",
    "\n",
    "print(f\"Optimal concentration parameters: {result.x}\")\n",
    "print(f\"Minimum MSE: {result.fun}\")"
   ]
  },
  {
   "cell_type": "code",
   "execution_count": 7,
   "id": "a034f3e8-853d-44c3-90e4-140246086d96",
   "metadata": {},
   "outputs": [],
   "source": [
    "result_x_np = np.array(result.x)\n",
    "\n",
    "# Reshape the NumPy array to 3x3\n",
    "optimized_concentration_params = result_x_np.reshape((3, 3))"
   ]
  },
  {
   "cell_type": "code",
   "execution_count": 8,
   "id": "f592c784-1758-4209-8604-70066d207fcf",
   "metadata": {},
   "outputs": [
    {
     "name": "stdout",
     "output_type": "stream",
     "text": [
      "Calculated Category Percentages: [ 0.1 99.8  0.1]\n",
      "Target Percentages: [ 5. 94.  1.]\n",
      "Difference: [4.9 5.8 0.9]\n"
     ]
    }
   ],
   "source": [
    "# Number of sequences to generate for a robust sample\n",
    "n_sequences = 1000\n",
    "sequence_length = 52  # Specify the length of each Markov chain sequence\n",
    "initial_state = 1  # Assuming we start each sequence from state 0 for simplicity\n",
    "\n",
    "# Generate sequences using the optimized concentration parameters\n",
    "sequences = [generate_markov_sequence(sample_transition_matrix(optimized_concentration_params), initial_state, sequence_length) for _ in range(n_sequences)]\n",
    "\n",
    "# Calculate and compare the category percentages\n",
    "calculated_percentages = calculate_category_percentages_np(sequences)\n",
    "# Output the results\n",
    "print(f\"Calculated Category Percentages: {calculated_percentages}\")\n",
    "print(f\"Target Percentages: {target_percentages}\")\n",
    "print(f\"Difference: {np.abs(calculated_percentages - target_percentages)}\")\n",
    "#old, 20, 50, 30"
   ]
  },
  {
   "cell_type": "code",
   "execution_count": 9,
   "id": "fd25c008-7fb5-4bea-8287-8c8f6295c324",
   "metadata": {},
   "outputs": [
    {
     "data": {
      "text/plain": [
       "array([[1.99e+00, 1.99e+00, 6.19e-01],\n",
       "       [1.00e-03, 1.99e+00, 1.00e-03],\n",
       "       [1.99e+00, 4.35e-01, 1.99e+00]])"
      ]
     },
     "execution_count": 9,
     "metadata": {},
     "output_type": "execute_result"
    }
   ],
   "source": [
    "np.around(result_x_np.reshape((3,3)),3)\n",
    "# Best: [0.1, 9.9]"
   ]
  },
  {
   "cell_type": "code",
   "execution_count": 10,
   "id": "1f040f99-9496-4326-a599-0c7c91ef0e72",
   "metadata": {},
   "outputs": [
    {
     "data": {
      "text/plain": [
       "array([[5.810e-01, 9.900e+00, 5.000e-03],\n",
       "       [3.660e-01, 9.900e+00, 5.000e-03],\n",
       "       [3.811e+00, 1.900e-02, 1.902e+00]])"
      ]
     },
     "execution_count": 10,
     "metadata": {},
     "output_type": "execute_result"
    }
   ],
   "source": [
    "# Close to optimal set of optimized parameters\n",
    "\n",
    "# Calculated Category Percentages: [ 4.4 93.6  2. ]\n",
    "# Target Percentages: [ 5 94  1]\n",
    "# Difference: [0.6 0.4 1. ]\n",
    "np.array([[2.88 , 9.9  , 0.01 ],\n",
    "       [0.066, 9.367, 0.01 ],\n",
    "       [9.52 , 0.01 , 5.35 ]])\n",
    "\n",
    "np.array([[ 0.822,  7.699, 10.   ],\n",
    "       [ 0.286,  7.457,  0.   ],\n",
    "       [10.   ,  9.052,  0.452]])\n",
    "\n",
    "#Calculated Category Percentages: [ 4.5 93.5  2. ]\n",
    "#Target Percentages: [ 5 94  1]\n",
    "#Difference: [0.5 0.5 1. ]\n",
    "np.array([[9.9  , 8.421, 0.01 ],\n",
    "       [0.029, 6.727, 0.01 ],\n",
    "       [9.651, 3.378, 2.508]])\n",
    "\n",
    "#Calculated Category Percentages: [ 5.7 93.3  1. ]\n",
    "#Target Percentages: [ 5. 94.  1.]\n",
    "#Difference: [0.7 0.7 0. ]\n",
    "np.array([[5.810e-01, 9.900e+00, 5.000e-03],\n",
    "       [3.660e-01, 9.900e+00, 5.000e-03],\n",
    "       [3.811e+00, 1.900e-02, 1.902e+00]])"
   ]
  },
  {
   "cell_type": "code",
   "execution_count": 61,
   "id": "dc77100b",
   "metadata": {},
   "outputs": [],
   "source": [
    "from cma import CMAEvolutionStrategy, CMAOptions\n",
    "# Number of concentration parameters\n",
    "n_params = len(target_percentages)*3  # 3 parameters for each state\n",
    "\n",
    "# Initial guess for the concentration parameters\n",
    "initial_params = np.ones(n_params)  \n",
    "\n",
    "# Define the bounds for the concentration parameters (they should be positive)\n",
    "lower_bounds = 1e-8 * np.ones(n_params)  # Avoid zero values for numerical stability\n",
    "upper_bounds = None  # No upper bounds\n",
    "\n",
    "# Set the options for the CMA-ES algorithm\n",
    "options = {\n",
    "    'bounds': [1e-3, 1.99],  # Lower and upper bounds for the parameters\n",
    "    'maxiter': 100,  # Maximum number of iterations\n",
    "    'verb_disp': 1,  # Print output every iteration\n",
    "}"
   ]
  },
  {
   "cell_type": "code",
   "execution_count": 62,
   "id": "b2f2fab1",
   "metadata": {},
   "outputs": [
    {
     "name": "stdout",
     "output_type": "stream",
     "text": [
      "(5_w,10)-aCMA-ES (mu_w=3.2,w_1=45%) in dimension 9 (seed=736862, Mon May 13 14:32:05 2024)\n"
     ]
    }
   ],
   "source": [
    "optimizer = CMAEvolutionStrategy(initial_params, 0.5, options)"
   ]
  },
  {
   "cell_type": "code",
   "execution_count": 63,
   "id": "43f68972",
   "metadata": {},
   "outputs": [
    {
     "name": "stdout",
     "output_type": "stream",
     "text": [
      "Iterat #Fevals   function value  axis ratio  sigma  min&max std  t[m:s]\n",
      "    1     10 3.555197201565362e+00 1.0e+00 4.77e-01  5e-01  5e-01 0:03.1\n",
      "    2     20 2.356747963108380e+00 1.2e+00 4.52e-01  4e-01  5e-01 0:06.1\n",
      "    3     30 7.026953963041747e-01 1.2e+00 4.67e-01  4e-01  5e-01 0:09.1\n",
      "    4     40 7.092428045696987e-01 1.3e+00 4.76e-01  4e-01  5e-01 0:12.1\n",
      "    5     50 9.208538094052572e-01 1.4e+00 4.60e-01  4e-01  5e-01 0:15.0\n",
      "    6     60 1.169785861040791e-01 1.4e+00 4.53e-01  4e-01  5e-01 0:18.0\n",
      "    7     70 3.461681595348674e-02 1.5e+00 4.91e-01  4e-01  5e-01 0:20.9\n",
      "    8     80 9.553862835347735e-01 1.6e+00 5.71e-01  5e-01  7e-01 0:24.0\n",
      "    9     90 1.135109196464881e-01 1.8e+00 6.19e-01  5e-01  7e-01 0:27.0\n",
      "   10    100 1.260824837982766e-01 1.8e+00 5.90e-01  4e-01  6e-01 0:30.0\n",
      "Iterat #Fevals   function value  axis ratio  sigma  min&max std  t[m:s]\n",
      "   11    110 1.175112697423748e+00 1.9e+00 6.32e-01  4e-01  7e-01 0:33.0\n",
      "   12    120 5.971139338102378e-01 2.2e+00 5.95e-01  4e-01  6e-01 0:36.0\n",
      "   13    130 2.917714959516896e-01 2.2e+00 5.66e-01  4e-01  6e-01 0:39.0\n",
      "   14    140 3.402497309169907e-01 2.3e+00 5.11e-01  3e-01  5e-01 0:42.0\n",
      "   15    150 1.386738121662353e-01 2.5e+00 4.75e-01  3e-01  5e-01 0:45.0\n",
      "   16    160 1.434366576520317e-01 2.6e+00 4.26e-01  2e-01  5e-01 0:47.9\n",
      "   17    170 9.526032196258190e-02 2.7e+00 3.94e-01  2e-01  4e-01 0:51.0\n",
      "   18    180 1.869879862940961e-01 2.7e+00 3.61e-01  2e-01  4e-01 0:53.9\n",
      "   19    190 2.534872223704240e-01 2.8e+00 3.18e-01  2e-01  3e-01 0:56.9\n",
      "   20    200 4.989565997576283e-02 2.9e+00 3.06e-01  2e-01  3e-01 0:59.9\n",
      "Iterat #Fevals   function value  axis ratio  sigma  min&max std  t[m:s]\n",
      "   21    210 2.092883172039539e-01 3.0e+00 2.77e-01  1e-01  3e-01 1:02.9\n",
      "   22    220 4.656097077848317e-02 3.0e+00 2.26e-01  1e-01  2e-01 1:05.9\n",
      "   23    230 3.426933143381365e-02 3.1e+00 2.22e-01  1e-01  2e-01 1:08.8\n",
      "   24    240 8.924827312231785e-03 3.3e+00 2.13e-01  9e-02  2e-01 1:11.8\n",
      "   25    250 3.373123892193218e-02 3.4e+00 2.03e-01  8e-02  2e-01 1:14.8\n",
      "   26    260 2.161746996067859e-02 3.5e+00 1.95e-01  8e-02  2e-01 1:17.7\n",
      "   27    270 1.278035737538330e-01 3.4e+00 1.86e-01  7e-02  2e-01 1:20.7\n",
      "   28    280 6.736220667986605e-02 3.7e+00 1.77e-01  7e-02  2e-01 1:23.7\n",
      "   29    290 2.100476587492036e-02 4.0e+00 1.73e-01  6e-02  2e-01 1:26.7\n",
      "   30    300 2.837178870164125e-02 4.4e+00 1.58e-01  5e-02  2e-01 1:29.6\n",
      "Iterat #Fevals   function value  axis ratio  sigma  min&max std  t[m:s]\n",
      "   31    310 2.357628133328695e-02 4.2e+00 1.38e-01  5e-02  2e-01 1:32.6\n",
      "   32    320 4.130613234121897e-02 4.4e+00 1.36e-01  4e-02  1e-01 1:35.6\n",
      "   33    330 2.407576722292612e-02 4.5e+00 1.29e-01  4e-02  1e-01 1:38.6\n",
      "   34    340 8.893769917248827e-03 4.6e+00 1.16e-01  4e-02  1e-01 1:41.6\n",
      "   35    350 1.849062971862495e-02 4.8e+00 1.02e-01  3e-02  1e-01 1:44.5\n",
      "   36    360 1.679860702010533e-02 5.0e+00 1.11e-01  3e-02  1e-01 1:47.5\n",
      "   37    370 1.562169443773546e-02 5.3e+00 1.17e-01  3e-02  1e-01 1:50.5\n",
      "   38    380 4.513148102376213e-03 5.6e+00 1.21e-01  3e-02  2e-01 1:53.4\n",
      "   39    390 9.850003763153927e-03 6.0e+00 1.30e-01  3e-02  2e-01 1:56.4\n",
      "   40    400 2.064735150670026e-03 6.6e+00 1.24e-01  3e-02  2e-01 1:59.3\n",
      "Iterat #Fevals   function value  axis ratio  sigma  min&max std  t[m:s]\n",
      "   41    410 8.395459651286916e-03 6.6e+00 1.25e-01  3e-02  2e-01 2:02.3\n",
      "   42    420 8.425532917447496e-03 7.1e+00 1.09e-01  3e-02  2e-01 2:05.3\n",
      "   43    430 5.456549792976632e-03 7.2e+00 1.02e-01  2e-02  1e-01 2:08.3\n",
      "   44    440 5.670796386527382e-04 7.1e+00 9.65e-02  2e-02  1e-01 2:11.3\n",
      "   45    450 1.520982440403678e-02 7.3e+00 9.26e-02  2e-02  1e-01 2:14.2\n",
      "   46    460 5.253964459055425e-04 7.3e+00 9.01e-02  2e-02  1e-01 2:17.2\n",
      "   47    470 2.597231194095106e-03 7.4e+00 9.53e-02  2e-02  1e-01 2:20.2\n",
      "   48    480 6.785080367921032e-04 7.2e+00 1.04e-01  2e-02  2e-01 2:23.1\n",
      "   49    490 9.956886231462581e-04 7.3e+00 1.12e-01  2e-02  2e-01 2:26.1\n",
      "   50    500 2.683220732775785e-02 7.6e+00 1.19e-01  3e-02  2e-01 2:29.1\n",
      "Iterat #Fevals   function value  axis ratio  sigma  min&max std  t[m:s]\n",
      "   51    510 1.463316879845432e-02 8.1e+00 1.29e-01  3e-02  2e-01 2:32.1\n",
      "   52    520 3.759017667960648e-03 8.2e+00 1.22e-01  2e-02  2e-01 2:35.0\n",
      "   53    530 9.298060188980901e-03 8.4e+00 1.20e-01  2e-02  2e-01 2:38.0\n",
      "   54    540 3.286054585242082e-03 8.4e+00 1.15e-01  2e-02  2e-01 2:41.0\n",
      "   55    550 7.316352143528039e-03 8.8e+00 1.13e-01  2e-02  2e-01 2:44.0\n",
      "   56    560 6.580955954982419e-03 9.1e+00 1.04e-01  2e-02  1e-01 2:47.0\n",
      "   57    570 7.905027101965536e-04 9.5e+00 9.78e-02  2e-02  1e-01 2:49.9\n",
      "   58    580 4.809135166830288e-03 9.5e+00 9.82e-02  2e-02  1e-01 2:52.9\n",
      "   59    590 8.043580750660474e-04 9.6e+00 1.02e-01  2e-02  1e-01 2:55.9\n",
      "   60    600 4.821427587483077e-04 9.9e+00 1.06e-01  2e-02  1e-01 2:58.8\n",
      "Iterat #Fevals   function value  axis ratio  sigma  min&max std  t[m:s]\n",
      "   61    610 3.867883125141788e-03 9.8e+00 1.10e-01  2e-02  2e-01 3:01.9\n",
      "   62    620 9.164719755729443e-03 9.7e+00 1.13e-01  2e-02  2e-01 3:05.0\n",
      "   63    630 1.658443436336946e-03 9.9e+00 1.06e-01  2e-02  1e-01 3:07.9\n",
      "   64    640 2.867311877177895e-03 9.7e+00 1.07e-01  2e-02  2e-01 3:10.9\n",
      "   65    650 3.234105551709452e-04 1.0e+01 1.05e-01  2e-02  2e-01 3:13.8\n",
      "   66    660 2.649746879154624e-03 1.0e+01 1.03e-01  2e-02  1e-01 3:16.8\n",
      "   67    670 5.703356735517169e-05 1.0e+01 1.04e-01  2e-02  2e-01 3:19.8\n",
      "   68    680 2.839802691419464e-03 1.1e+01 9.83e-02  2e-02  1e-01 3:22.7\n",
      "   69    690 1.172075834969671e-02 1.1e+01 1.03e-01  2e-02  2e-01 3:25.6\n",
      "   70    700 1.719911428676702e-03 1.2e+01 1.11e-01  2e-02  2e-01 3:28.6\n",
      "Iterat #Fevals   function value  axis ratio  sigma  min&max std  t[m:s]\n",
      "   71    710 5.297220239627585e-04 1.3e+01 1.14e-01  2e-02  2e-01 3:31.6\n",
      "   72    720 2.812766863189301e-04 1.4e+01 1.12e-01  2e-02  2e-01 3:34.5\n",
      "   73    730 2.387004304372321e-03 1.3e+01 1.12e-01  2e-02  2e-01 3:37.5\n",
      "   74    740 1.832604437452754e-03 1.3e+01 1.13e-01  2e-02  2e-01 3:40.5\n",
      "   75    750 5.703356735517169e-05 1.4e+01 1.12e-01  2e-02  2e-01 3:43.4\n",
      "   76    760 2.288613795315325e-03 1.4e+01 1.12e-01  2e-02  2e-01 3:46.4\n",
      "   77    770 2.059092588487905e-03 1.4e+01 1.04e-01  1e-02  2e-01 3:49.3\n",
      "   78    780 1.951443940152145e-03 1.5e+01 8.69e-02  1e-02  2e-01 3:52.3\n",
      "   79    790 9.956886231462581e-04 1.5e+01 8.22e-02  1e-02  1e-01 3:55.2\n",
      "   80    800 4.322437234051965e-05 1.5e+01 8.16e-02  1e-02  1e-01 3:58.2\n",
      "Iterat #Fevals   function value  axis ratio  sigma  min&max std  t[m:s]\n",
      "   81    810 2.084280742943240e-03 1.5e+01 8.25e-02  1e-02  1e-01 4:01.1\n",
      "   82    820 5.413669393668523e-05 1.6e+01 8.61e-02  1e-02  2e-01 4:04.1\n",
      "   83    830 1.040092760783151e-05 1.6e+01 9.11e-02  1e-02  2e-01 4:07.1\n",
      "   84    840 5.214228477968947e-04 1.6e+01 9.95e-02  1e-02  2e-01 4:10.0\n",
      "   85    850 3.006200238625555e-04 1.6e+01 9.07e-02  1e-02  2e-01 4:13.0\n",
      "   86    860 3.234105551709452e-04 1.6e+01 8.58e-02  1e-02  2e-01 4:15.9\n",
      "   87    870 6.587988505437356e-04 1.7e+01 8.13e-02  1e-02  1e-01 4:18.9\n",
      "   88    880 2.103505429342956e-04 1.7e+01 7.33e-02  9e-03  1e-01 4:21.8\n",
      "   89    890 2.966310245270732e-04 1.7e+01 6.90e-02  8e-03  1e-01 4:24.8\n",
      "   90    900 9.948195465789051e-05 1.7e+01 6.91e-02  8e-03  1e-01 4:27.7\n",
      "Iterat #Fevals   function value  axis ratio  sigma  min&max std  t[m:s]\n",
      "   91    910 2.359365066146562e-04 1.8e+01 7.31e-02  8e-03  1e-01 4:30.7\n",
      "   92    920 1.604828021259482e-04 1.8e+01 7.32e-02  8e-03  1e-01 4:33.6\n",
      "   93    930 1.775670179768674e-04 1.8e+01 7.22e-02  7e-03  1e-01 4:36.6\n",
      "   94    940 2.359365066146562e-04 1.9e+01 6.82e-02  7e-03  1e-01 4:39.6\n",
      "   95    950 3.384566001510252e-04 2.0e+01 6.63e-02  7e-03  1e-01 4:42.5\n",
      "   96    960 2.335601568115822e-04 2.0e+01 6.80e-02  7e-03  1e-01 4:45.5\n",
      "   97    970 6.795874571417851e-04 2.1e+01 6.63e-02  6e-03  1e-01 4:48.4\n",
      "   98    980 9.135203769660615e-05 2.1e+01 6.05e-02  6e-03  1e-01 4:51.4\n",
      "   99    990 4.712088837935259e-04 2.1e+01 5.98e-02  6e-03  1e-01 4:54.3\n",
      "  100   1000 1.427930336079418e-04 2.1e+01 5.47e-02  5e-03  9e-02 4:57.3\n"
     ]
    }
   ],
   "source": [
    "solutions = []\n",
    "while not optimizer.stop():\n",
    "    solutions = optimizer.ask()\n",
    "\n",
    "    fitness_values = [objective_function(params.reshape((3,3)), n_sequences, sequence_length, target_percentages, initial_state)\n",
    "                      for params in solutions]\n",
    "    optimizer.tell(solutions, fitness_values)\n",
    "    optimizer.disp()\n",
    "\n",
    "\n",
    "# Get the best solution\n",
    "best_params = optimizer.result.xbest"
   ]
  },
  {
   "cell_type": "code",
   "execution_count": 65,
   "id": "de3dc0fc",
   "metadata": {},
   "outputs": [
    {
     "name": "stdout",
     "output_type": "stream",
     "text": [
      "Calculated Category Percentages: [ 4.5 94.7  0.8]\n",
      "Target Percentages: [ 5. 94.  1.]\n",
      "Difference: [0.5 0.7 0.2]\n"
     ]
    }
   ],
   "source": [
    "# Number of sequences to generate for a robust sample\n",
    "n_sequences = 1000\n",
    "sequence_length = 52  # Specify the length of each Markov chain sequence\n",
    "initial_state = 1  # Assuming we start each sequence from state 0 for simplicity\n",
    "\n",
    "# Generate sequences using the optimized concentration parameters\n",
    "sequences = [generate_markov_sequence(sample_transition_matrix(best_params.reshape(3,3)), initial_state, sequence_length) for _ in range(n_sequences)]\n",
    "\n",
    "# Calculate and compare the category percentages\n",
    "calculated_percentages = calculate_category_percentages_np(sequences)\n",
    "# Output the results\n",
    "print(f\"Calculated Category Percentages: {calculated_percentages}\")\n",
    "print(f\"Target Percentages: {target_percentages}\")\n",
    "print(f\"Difference: {np.abs(calculated_percentages - target_percentages)}\")"
   ]
  }
 ],
 "metadata": {
  "kernelspec": {
   "display_name": "base",
   "language": "python",
   "name": "python3"
  },
  "language_info": {
   "codemirror_mode": {
    "name": "ipython",
    "version": 3
   },
   "file_extension": ".py",
   "mimetype": "text/x-python",
   "name": "python",
   "nbconvert_exporter": "python",
   "pygments_lexer": "ipython3",
   "version": "3.11.3"
  }
 },
 "nbformat": 4,
 "nbformat_minor": 5
}
