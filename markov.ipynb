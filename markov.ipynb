{
 "cells": [
  {
   "cell_type": "code",
   "execution_count": 30,
   "metadata": {},
   "outputs": [],
   "source": [
    "import numpy as np\n",
    "NORMAL = \"normal\"\n",
    "MDD = \"mdd\"\n",
    "MIXED_BIPOLAR = \"mixed bipolar\"\n",
    "PURE_MANIA = \"pure mania\""
   ]
  },
  {
   "cell_type": "code",
   "execution_count": 31,
   "metadata": {},
   "outputs": [],
   "source": [
    "from scipy.stats import multinomial\n",
    "from typing import List\n",
    "\n",
    "def markov_sequence(p_init: np.array, p_transition: np.array, sequence_length: int) -> List[int]:\n",
    "    \"\"\"\n",
    "    Generate a Markov sequence based on p_init and p_transition.\n",
    "    \"\"\"\n",
    "    initial_state = list(multinomial.rvs(1, p_init)).index(1)\n",
    "\n",
    "    states = [initial_state]\n",
    "    for _ in range(sequence_length - 1):\n",
    "        p_tr = p_transition[states[-1]]\n",
    "        new_state = list(multinomial.rvs(1, p_tr)).index(1)\n",
    "        states.append(new_state)\n",
    "    return states"
   ]
  },
  {
   "cell_type": "code",
   "execution_count": 32,
   "metadata": {},
   "outputs": [],
   "source": [
    "p_init = np.array([1.0, 0.0, 0.0])\n",
    "p_transition = np.array(\n",
    "    [[0.99610, 0.00382, 0.00008],\n",
    "     [0.4055, 0.5802, 0.0143],\n",
    "     [0.999926, 0.000034, 0.00004]]\n",
    ")"
   ]
  },
  {
   "cell_type": "code",
   "execution_count": 33,
   "metadata": {},
   "outputs": [],
   "source": [
    "state_sequence = markov_sequence(p_init, p_transition, sequence_length=52)\n",
    "\n",
    "def eval_sequence(state_sequence):\n",
    "    \"\"\"\n",
    "    Evaluate a state sequence and return the diagnosis.\n",
    "    \"\"\"\n",
    "    NORMAL = 0\n",
    "    MANIC = 1\n",
    "    DEPRESSED = 2\n",
    "    arr = np.array(state_sequence)\n",
    "    cont_depressed = False\n",
    "    manic_trans = False\n",
    "\n",
    "    curr = 0\n",
    "    for i in range(len(arr)):\n",
    "        if arr[i] == DEPRESSED:\n",
    "            curr += 1\n",
    "        elif arr[i] == MANIC:\n",
    "            manic_trans = True\n",
    "            curr = 0\n",
    "        else:\n",
    "            curr = 0\n",
    "        if curr >= 2:\n",
    "            cont_depressed = True\n",
    "    return cont_depressed, manic_trans\n",
    "\n",
    "def diagnosis(cont_depressed, manic_trans):\n",
    "    if cont_depressed and manic_trans:\n",
    "        return MIXED_BIPOLAR\n",
    "    elif cont_depressed:\n",
    "        return MDD\n",
    "    elif manic_trans:\n",
    "        return PURE_MANIA\n",
    "    else:\n",
    "        return NORMAL\n",
    "\n",
    "\n"
   ]
  },
  {
   "cell_type": "code",
   "execution_count": 34,
   "metadata": {},
   "outputs": [
    {
     "name": "stdout",
     "output_type": "stream",
     "text": [
      "normal: 0.835\n",
      "mdd: 0.0\n",
      "pure mania: 0.165\n",
      "mixed bipolar: 0.0\n"
     ]
    }
   ],
   "source": [
    "def simulate_population(p_init, p_transition, sequence_length=52, population_size = 1000):\n",
    "    population = {NORMAL : 0, MDD : 0, PURE_MANIA: 0, MIXED_BIPOLAR : 0}\n",
    "    for sim in range(population_size):\n",
    "        state_sequence = markov_sequence(p_init, p_transition, sequence_length)\n",
    "        diag = diagnosis(*eval_sequence(state_sequence))\n",
    "        population[diag] += 1\n",
    "    return population\n",
    "\n",
    "\n",
    "def output_probabilities(population):\n",
    "    population_size = sum(population.values())\n",
    "    for k, v in population.items():\n",
    "        print(f\"{k}: {v/population_size}\")\n",
    "\n",
    "output_probabilities(simulate_population(p_init, p_transition))"
   ]
  }
 ],
 "metadata": {
  "kernelspec": {
   "display_name": "base",
   "language": "python",
   "name": "python3"
  },
  "language_info": {
   "codemirror_mode": {
    "name": "ipython",
    "version": 3
   },
   "file_extension": ".py",
   "mimetype": "text/x-python",
   "name": "python",
   "nbconvert_exporter": "python",
   "pygments_lexer": "ipython3",
   "version": "3.11.3"
  }
 },
 "nbformat": 4,
 "nbformat_minor": 2
}
