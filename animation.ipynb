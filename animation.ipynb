{
 "cells": [
  {
   "cell_type": "code",
   "execution_count": 11,
   "metadata": {},
   "outputs": [
    {
     "name": "stderr",
     "output_type": "stream",
     "text": [
      "/var/folders/cl/0wd9cbk9793903ycn4rhqp7h0000gn/T/ipykernel_29605/358090623.py:55: DeprecationWarning: Starting with ImageIO v3 the behavior of this function will switch to that of iio.v3.imread. To keep the current behavior (and make this warning disappear) use `import imageio.v2 as imageio` or call `imageio.v2.imread` directly.\n",
      "  images.append(imageio.imread(filename))\n"
     ]
    }
   ],
   "source": [
    "import networkx as nx\n",
    "from networkx.drawing.nx_agraph import to_agraph\n",
    "import numpy as np\n",
    "import imageio\n",
    "\n",
    "#Markov chain parameters\n",
    "states = [\"Depressed\",\n",
    "          \"Normal\",\n",
    "          \"Manic\"\n",
    "          ]\n",
    "\n",
    "\n",
    "Q = [[0.6, 0.3 , 0.1 ],\n",
    "       [0.15, 0.8, 0.05],\n",
    "       [0.3, 0.1, 0.6]]\n",
    "\n",
    "#Sampling the markov chain over 100 steps\n",
    "N_steps=100\n",
    "node_ind=1\n",
    "node_sel=[node_ind]\n",
    "for i in range(N_steps):\n",
    "  temp_ni=np.random.choice(3,p=Q[node_ind])\n",
    "  node_sel.append(temp_ni)\n",
    "  node_ind=temp_ni\n",
    "\n",
    "#Setting up network\n",
    "G = nx.MultiDiGraph()\n",
    "[G.add_node(s,style='filled',fillcolor='white',shape='circle',fixedsize='true',width=1.0) for s in states]\n",
    "\n",
    "labels={}\n",
    "edge_labels={}\n",
    "\n",
    "for i, origin_state in enumerate(states):\n",
    "    for j, destination_state in enumerate(states):\n",
    "        rate = Q[i][j]\n",
    "        if rate > 0:\n",
    "            G.add_edge(origin_state, destination_state, weight=rate,len=4)\n",
    "\n",
    "#Setting up node color for each iteration     \n",
    "for k in range(N_steps):\n",
    "  for i,n in enumerate(G.nodes(data=True)):\n",
    "    if i==node_sel[k]:\n",
    "      n[1]['fillcolor']='blue'\n",
    "    else:\n",
    "      n[1]['fillcolor']='white'\n",
    "    \n",
    "  A = to_agraph(G)\n",
    "  A.layout()\n",
    "  A.draw('images/net_'+str(k)+'.png')\n",
    "\n",
    "#Create gif with imageio\n",
    "images = []\n",
    "filenames=['images/net_'+str(k)+'.png' for k in range(N_steps)]\n",
    "for filename in filenames:\n",
    "    images.append(imageio.imread(filename))\n",
    "imageio.mimsave('markov_chain.gif', images,fps=3)"
   ]
  },
  {
   "cell_type": "code",
   "execution_count": null,
   "metadata": {},
   "outputs": [],
   "source": []
  }
 ],
 "metadata": {
  "kernelspec": {
   "display_name": "comp",
   "language": "python",
   "name": "python3"
  },
  "language_info": {
   "codemirror_mode": {
    "name": "ipython",
    "version": 3
   },
   "file_extension": ".py",
   "mimetype": "text/x-python",
   "name": "python",
   "nbconvert_exporter": "python",
   "pygments_lexer": "ipython3",
   "version": "3.11.0"
  }
 },
 "nbformat": 4,
 "nbformat_minor": 2
}
